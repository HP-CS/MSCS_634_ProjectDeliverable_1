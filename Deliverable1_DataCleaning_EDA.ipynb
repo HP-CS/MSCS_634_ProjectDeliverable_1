{
 "cells": [
  {
   "cell_type": "markdown",
   "id": "bbbb3405",
   "metadata": {},
   "source": [
    "# Deliverable 1: Data Cleaning and Exploratory Data Analysis (EDA)"
   ]
  },
  {
   "cell_type": "code",
   "execution_count": null,
   "id": "1be5fbc6",
   "metadata": {},
   "outputs": [],
   "source": [
    "# 1. Load libraries and dataset\n",
    "import pandas as pd\n",
    "import numpy as np\n",
    "import seaborn as sns\n",
    "import matplotlib.pyplot as plt\n",
    "\n",
    "# Load dataset (ensure 'Online Retail.xlsx' is in the same folder)\n",
    "df = pd.read_excel('Online Retail.xlsx')\n",
    "df.info()\n",
    "df.head()\n"
   ]
  },
  {
   "cell_type": "markdown",
   "id": "9b18d49c",
   "metadata": {},
   "source": [
    "## Dataset Description\n",
    "- **Columns**: InvoiceNo, StockCode, Description, Quantity, InvoiceDate, UnitPrice, CustomerID, Country\n",
    "- **Size**: 541,909 rows, 8 columns\n",
    "- **Reason for selection**:\n",
    "  - Real-world transactional dataset suitable for regression, classification, and clustering tasks\n",
    "  - Includes customer behavior insights, ideal for data mining"
   ]
  },
  {
   "cell_type": "code",
   "execution_count": null,
   "id": "582187e6",
   "metadata": {},
   "outputs": [],
   "source": [
    "# 3. Data Cleaning\n",
    "# 3.1 Check for missing values\n",
    "print(df.isnull().sum())\n",
    "\n",
    "# 3.2 Remove rows with missing CustomerID\n",
    "df = df.dropna(subset=['CustomerID'])\n",
    "\n",
    "# 3.3 Remove duplicates based on InvoiceNo and StockCode\n",
    "df = df.drop_duplicates(subset=['InvoiceNo', 'StockCode'])\n",
    "\n",
    "# 3.4 Remove outliers: Quantity <= 0 or UnitPrice <= 0\n",
    "df = df[(df['Quantity'] > 0) & (df['UnitPrice'] > 0)]\n",
    "df.info()\n"
   ]
  },
  {
   "cell_type": "code",
   "execution_count": null,
   "id": "9d9ba504",
   "metadata": {},
   "outputs": [],
   "source": [
    "# 4. Exploratory Data Analysis (EDA)\n",
    "# Plot Quantity distribution (log scale)\n",
    "plt.figure(figsize=(10, 5))\n",
    "sns.histplot(df['Quantity'], bins=50, log_scale=True)\n",
    "plt.title('Quantity Distribution (log scale)')\n",
    "plt.show()\n",
    "\n",
    "# Plot UnitPrice distribution (log scale)\n",
    "plt.figure(figsize=(10, 5))\n",
    "sns.histplot(df['UnitPrice'], bins=50, log_scale=True)\n",
    "plt.title('UnitPrice Distribution (log scale)')\n",
    "plt.show()\n",
    "\n",
    "# Boxplot for top 10 countries by quantity\n",
    "top_countries = df['Country'].value_counts().nlargest(10).index\n",
    "df_top = df[df['Country'].isin(top_countries)]\n",
    "plt.figure(figsize=(12, 6))\n",
    "sns.boxplot(x='Country', y='Quantity', data=df_top)\n",
    "plt.xticks(rotation=45)\n",
    "plt.title('Top 10 Countries by Quantity')\n",
    "plt.show()\n"
   ]
  },
  {
   "cell_type": "code",
   "execution_count": null,
   "id": "682bff40",
   "metadata": {},
   "outputs": [],
   "source": [
    "# 5. Correlation Analysis\n",
    "corr = df[['Quantity', 'UnitPrice']].corr()\n",
    "sns.heatmap(corr, annot=True)\n",
    "plt.title('Correlation between Quantity and UnitPrice')\n",
    "plt.show()\n"
   ]
  },
  {
   "cell_type": "code",
   "execution_count": null,
   "id": "cfae508d",
   "metadata": {},
   "outputs": [],
   "source": [
    "# 6. RFM Analysis Preparation\n",
    "snapshot_date = df['InvoiceDate'].max() + pd.Timedelta(days=1)\n",
    "rfm = df.groupby('CustomerID').agg({\n",
    "    'InvoiceDate': lambda x: (snapshot_date - x.max()).days,\n",
    "    'InvoiceNo': 'nunique',\n",
    "    'Quantity': 'sum',\n",
    "    'UnitPrice': 'mean'\n",
    "}).reset_index()\n",
    "rfm.columns = ['CustomerID', 'Recency', 'Frequency', 'TotalQuantity', 'AvgUnitPrice']\n",
    "rfm.head()\n"
   ]
  },
  {
   "cell_type": "markdown",
   "id": "1ea0c1bc",
   "metadata": {},
   "source": [
    "## Insights from EDA\n",
    "- **Quantity and UnitPrice Relationship**: Weak correlation; high-priced items are not necessarily purchased in high quantities.\n",
    "- **Top Countries**: UK and Germany show high purchase activity.\n",
    "- **RFM Metrics**: Recency, Frequency, and Monetary attributes calculated for customer segmentation.\n",
    "- **Outliers**: Detected and filtered out to improve data quality for future modeling."
   ]
  }
 ],
 "metadata": {},
 "nbformat": 4,
 "nbformat_minor": 5
}
